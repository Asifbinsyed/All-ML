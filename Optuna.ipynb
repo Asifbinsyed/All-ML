{
  "nbformat": 4,
  "nbformat_minor": 0,
  "metadata": {
    "colab": {
      "provenance": [],
      "authorship_tag": "ABX9TyM8KjvZf2KkqP4AGNr3mt/W",
      "include_colab_link": true
    },
    "kernelspec": {
      "name": "python3",
      "display_name": "Python 3"
    },
    "language_info": {
      "name": "python"
    }
  },
  "cells": [
    {
      "cell_type": "markdown",
      "metadata": {
        "id": "view-in-github",
        "colab_type": "text"
      },
      "source": [
        "<a href=\"https://colab.research.google.com/github/Asifbinsyed/All-ML/blob/main/Optuna.ipynb\" target=\"_parent\"><img src=\"https://colab.research.google.com/assets/colab-badge.svg\" alt=\"Open In Colab\"/></a>"
      ]
    },
    {
      "cell_type": "markdown",
      "source": [
        "https://www.tldraw.com/r/I63sbz3XTDDvRyiw0T3Bh?d=v-2346.325.3750.1912.page"
      ],
      "metadata": {
        "id": "ky9IOJRuSKRQ"
      }
    },
    {
      "cell_type": "code",
      "execution_count": 1,
      "metadata": {
        "id": "woW_cgPCEeU5",
        "outputId": "eda0056a-ba7f-4a4e-f86d-aa0334342aed",
        "colab": {
          "base_uri": "https://localhost:8080/"
        }
      },
      "outputs": [
        {
          "output_type": "stream",
          "name": "stdout",
          "text": [
            "Collecting optuna\n",
            "  Downloading optuna-4.1.0-py3-none-any.whl.metadata (16 kB)\n",
            "Collecting alembic>=1.5.0 (from optuna)\n",
            "  Downloading alembic-1.14.0-py3-none-any.whl.metadata (7.4 kB)\n",
            "Collecting colorlog (from optuna)\n",
            "  Downloading colorlog-6.9.0-py3-none-any.whl.metadata (10 kB)\n",
            "Requirement already satisfied: numpy in /usr/local/lib/python3.11/dist-packages (from optuna) (1.26.4)\n",
            "Requirement already satisfied: packaging>=20.0 in /usr/local/lib/python3.11/dist-packages (from optuna) (24.2)\n",
            "Requirement already satisfied: sqlalchemy>=1.4.2 in /usr/local/lib/python3.11/dist-packages (from optuna) (2.0.37)\n",
            "Requirement already satisfied: tqdm in /usr/local/lib/python3.11/dist-packages (from optuna) (4.67.1)\n",
            "Requirement already satisfied: PyYAML in /usr/local/lib/python3.11/dist-packages (from optuna) (6.0.2)\n",
            "Collecting Mako (from alembic>=1.5.0->optuna)\n",
            "  Downloading Mako-1.3.8-py3-none-any.whl.metadata (2.9 kB)\n",
            "Requirement already satisfied: typing-extensions>=4 in /usr/local/lib/python3.11/dist-packages (from alembic>=1.5.0->optuna) (4.12.2)\n",
            "Requirement already satisfied: greenlet!=0.4.17 in /usr/local/lib/python3.11/dist-packages (from sqlalchemy>=1.4.2->optuna) (3.1.1)\n",
            "Requirement already satisfied: MarkupSafe>=0.9.2 in /usr/local/lib/python3.11/dist-packages (from Mako->alembic>=1.5.0->optuna) (3.0.2)\n",
            "Downloading optuna-4.1.0-py3-none-any.whl (364 kB)\n",
            "\u001b[2K   \u001b[90m━━━━━━━━━━━━━━━━━━━━━━━━━━━━━━━━━━━━━━━━\u001b[0m \u001b[32m364.4/364.4 kB\u001b[0m \u001b[31m5.8 MB/s\u001b[0m eta \u001b[36m0:00:00\u001b[0m\n",
            "\u001b[?25hDownloading alembic-1.14.0-py3-none-any.whl (233 kB)\n",
            "\u001b[2K   \u001b[90m━━━━━━━━━━━━━━━━━━━━━━━━━━━━━━━━━━━━━━━━\u001b[0m \u001b[32m233.5/233.5 kB\u001b[0m \u001b[31m10.1 MB/s\u001b[0m eta \u001b[36m0:00:00\u001b[0m\n",
            "\u001b[?25hDownloading colorlog-6.9.0-py3-none-any.whl (11 kB)\n",
            "Downloading Mako-1.3.8-py3-none-any.whl (78 kB)\n",
            "\u001b[2K   \u001b[90m━━━━━━━━━━━━━━━━━━━━━━━━━━━━━━━━━━━━━━━━\u001b[0m \u001b[32m78.6/78.6 kB\u001b[0m \u001b[31m4.0 MB/s\u001b[0m eta \u001b[36m0:00:00\u001b[0m\n",
            "\u001b[?25hInstalling collected packages: Mako, colorlog, alembic, optuna\n",
            "Successfully installed Mako-1.3.8 alembic-1.14.0 colorlog-6.9.0 optuna-4.1.0\n"
          ]
        }
      ],
      "source": [
        "!pip install optuna"
      ]
    },
    {
      "cell_type": "code",
      "source": [
        "# Import necessary libraries\n",
        "import optuna\n",
        "from sklearn.datasets import load_diabetes\n",
        "from sklearn.model_selection import train_test_split\n",
        "from sklearn.preprocessing import StandardScaler\n",
        "\n",
        "# Load the Pima Indian Diabetes dataset from sklearn\n",
        "# Note: Scikit-learn's built-in 'load_diabetes' is a regression dataset.\n",
        "# We will load the actual diabetes dataset from an external source\n",
        "import pandas as pd\n",
        "\n",
        "# Load the Pima Indian Diabetes dataset (from UCI repository)\n",
        "url = \"https://raw.githubusercontent.com/jbrownlee/Datasets/master/pima-indians-diabetes.data.csv\"\n",
        "columns = ['Pregnancies', 'Glucose', 'BloodPressure', 'SkinThickness', 'Insulin', 'BMI',\n",
        "           'DiabetesPedigreeFunction', 'Age', 'Outcome']\n",
        "\n",
        "# Load the dataset\n",
        "df = pd.read_csv(url, names=columns)\n",
        "\n",
        "df.head()"
      ],
      "metadata": {
        "id": "Ugo3tKLELRig",
        "outputId": "d80aa9af-41df-44b6-9f6a-4d261f0f9b85",
        "colab": {
          "base_uri": "https://localhost:8080/",
          "height": 206
        }
      },
      "execution_count": 2,
      "outputs": [
        {
          "output_type": "execute_result",
          "data": {
            "text/plain": [
              "   Pregnancies  Glucose  BloodPressure  SkinThickness  Insulin   BMI  \\\n",
              "0            6      148             72             35        0  33.6   \n",
              "1            1       85             66             29        0  26.6   \n",
              "2            8      183             64              0        0  23.3   \n",
              "3            1       89             66             23       94  28.1   \n",
              "4            0      137             40             35      168  43.1   \n",
              "\n",
              "   DiabetesPedigreeFunction  Age  Outcome  \n",
              "0                     0.627   50        1  \n",
              "1                     0.351   31        0  \n",
              "2                     0.672   32        1  \n",
              "3                     0.167   21        0  \n",
              "4                     2.288   33        1  "
            ],
            "text/html": [
              "\n",
              "  <div id=\"df-e828dbcd-8e02-4880-a743-59b5797f06b4\" class=\"colab-df-container\">\n",
              "    <div>\n",
              "<style scoped>\n",
              "    .dataframe tbody tr th:only-of-type {\n",
              "        vertical-align: middle;\n",
              "    }\n",
              "\n",
              "    .dataframe tbody tr th {\n",
              "        vertical-align: top;\n",
              "    }\n",
              "\n",
              "    .dataframe thead th {\n",
              "        text-align: right;\n",
              "    }\n",
              "</style>\n",
              "<table border=\"1\" class=\"dataframe\">\n",
              "  <thead>\n",
              "    <tr style=\"text-align: right;\">\n",
              "      <th></th>\n",
              "      <th>Pregnancies</th>\n",
              "      <th>Glucose</th>\n",
              "      <th>BloodPressure</th>\n",
              "      <th>SkinThickness</th>\n",
              "      <th>Insulin</th>\n",
              "      <th>BMI</th>\n",
              "      <th>DiabetesPedigreeFunction</th>\n",
              "      <th>Age</th>\n",
              "      <th>Outcome</th>\n",
              "    </tr>\n",
              "  </thead>\n",
              "  <tbody>\n",
              "    <tr>\n",
              "      <th>0</th>\n",
              "      <td>6</td>\n",
              "      <td>148</td>\n",
              "      <td>72</td>\n",
              "      <td>35</td>\n",
              "      <td>0</td>\n",
              "      <td>33.6</td>\n",
              "      <td>0.627</td>\n",
              "      <td>50</td>\n",
              "      <td>1</td>\n",
              "    </tr>\n",
              "    <tr>\n",
              "      <th>1</th>\n",
              "      <td>1</td>\n",
              "      <td>85</td>\n",
              "      <td>66</td>\n",
              "      <td>29</td>\n",
              "      <td>0</td>\n",
              "      <td>26.6</td>\n",
              "      <td>0.351</td>\n",
              "      <td>31</td>\n",
              "      <td>0</td>\n",
              "    </tr>\n",
              "    <tr>\n",
              "      <th>2</th>\n",
              "      <td>8</td>\n",
              "      <td>183</td>\n",
              "      <td>64</td>\n",
              "      <td>0</td>\n",
              "      <td>0</td>\n",
              "      <td>23.3</td>\n",
              "      <td>0.672</td>\n",
              "      <td>32</td>\n",
              "      <td>1</td>\n",
              "    </tr>\n",
              "    <tr>\n",
              "      <th>3</th>\n",
              "      <td>1</td>\n",
              "      <td>89</td>\n",
              "      <td>66</td>\n",
              "      <td>23</td>\n",
              "      <td>94</td>\n",
              "      <td>28.1</td>\n",
              "      <td>0.167</td>\n",
              "      <td>21</td>\n",
              "      <td>0</td>\n",
              "    </tr>\n",
              "    <tr>\n",
              "      <th>4</th>\n",
              "      <td>0</td>\n",
              "      <td>137</td>\n",
              "      <td>40</td>\n",
              "      <td>35</td>\n",
              "      <td>168</td>\n",
              "      <td>43.1</td>\n",
              "      <td>2.288</td>\n",
              "      <td>33</td>\n",
              "      <td>1</td>\n",
              "    </tr>\n",
              "  </tbody>\n",
              "</table>\n",
              "</div>\n",
              "    <div class=\"colab-df-buttons\">\n",
              "\n",
              "  <div class=\"colab-df-container\">\n",
              "    <button class=\"colab-df-convert\" onclick=\"convertToInteractive('df-e828dbcd-8e02-4880-a743-59b5797f06b4')\"\n",
              "            title=\"Convert this dataframe to an interactive table.\"\n",
              "            style=\"display:none;\">\n",
              "\n",
              "  <svg xmlns=\"http://www.w3.org/2000/svg\" height=\"24px\" viewBox=\"0 -960 960 960\">\n",
              "    <path d=\"M120-120v-720h720v720H120Zm60-500h600v-160H180v160Zm220 220h160v-160H400v160Zm0 220h160v-160H400v160ZM180-400h160v-160H180v160Zm440 0h160v-160H620v160ZM180-180h160v-160H180v160Zm440 0h160v-160H620v160Z\"/>\n",
              "  </svg>\n",
              "    </button>\n",
              "\n",
              "  <style>\n",
              "    .colab-df-container {\n",
              "      display:flex;\n",
              "      gap: 12px;\n",
              "    }\n",
              "\n",
              "    .colab-df-convert {\n",
              "      background-color: #E8F0FE;\n",
              "      border: none;\n",
              "      border-radius: 50%;\n",
              "      cursor: pointer;\n",
              "      display: none;\n",
              "      fill: #1967D2;\n",
              "      height: 32px;\n",
              "      padding: 0 0 0 0;\n",
              "      width: 32px;\n",
              "    }\n",
              "\n",
              "    .colab-df-convert:hover {\n",
              "      background-color: #E2EBFA;\n",
              "      box-shadow: 0px 1px 2px rgba(60, 64, 67, 0.3), 0px 1px 3px 1px rgba(60, 64, 67, 0.15);\n",
              "      fill: #174EA6;\n",
              "    }\n",
              "\n",
              "    .colab-df-buttons div {\n",
              "      margin-bottom: 4px;\n",
              "    }\n",
              "\n",
              "    [theme=dark] .colab-df-convert {\n",
              "      background-color: #3B4455;\n",
              "      fill: #D2E3FC;\n",
              "    }\n",
              "\n",
              "    [theme=dark] .colab-df-convert:hover {\n",
              "      background-color: #434B5C;\n",
              "      box-shadow: 0px 1px 3px 1px rgba(0, 0, 0, 0.15);\n",
              "      filter: drop-shadow(0px 1px 2px rgba(0, 0, 0, 0.3));\n",
              "      fill: #FFFFFF;\n",
              "    }\n",
              "  </style>\n",
              "\n",
              "    <script>\n",
              "      const buttonEl =\n",
              "        document.querySelector('#df-e828dbcd-8e02-4880-a743-59b5797f06b4 button.colab-df-convert');\n",
              "      buttonEl.style.display =\n",
              "        google.colab.kernel.accessAllowed ? 'block' : 'none';\n",
              "\n",
              "      async function convertToInteractive(key) {\n",
              "        const element = document.querySelector('#df-e828dbcd-8e02-4880-a743-59b5797f06b4');\n",
              "        const dataTable =\n",
              "          await google.colab.kernel.invokeFunction('convertToInteractive',\n",
              "                                                    [key], {});\n",
              "        if (!dataTable) return;\n",
              "\n",
              "        const docLinkHtml = 'Like what you see? Visit the ' +\n",
              "          '<a target=\"_blank\" href=https://colab.research.google.com/notebooks/data_table.ipynb>data table notebook</a>'\n",
              "          + ' to learn more about interactive tables.';\n",
              "        element.innerHTML = '';\n",
              "        dataTable['output_type'] = 'display_data';\n",
              "        await google.colab.output.renderOutput(dataTable, element);\n",
              "        const docLink = document.createElement('div');\n",
              "        docLink.innerHTML = docLinkHtml;\n",
              "        element.appendChild(docLink);\n",
              "      }\n",
              "    </script>\n",
              "  </div>\n",
              "\n",
              "\n",
              "<div id=\"df-11c69edd-aae6-46bd-ba96-a5772cdbd0e0\">\n",
              "  <button class=\"colab-df-quickchart\" onclick=\"quickchart('df-11c69edd-aae6-46bd-ba96-a5772cdbd0e0')\"\n",
              "            title=\"Suggest charts\"\n",
              "            style=\"display:none;\">\n",
              "\n",
              "<svg xmlns=\"http://www.w3.org/2000/svg\" height=\"24px\"viewBox=\"0 0 24 24\"\n",
              "     width=\"24px\">\n",
              "    <g>\n",
              "        <path d=\"M19 3H5c-1.1 0-2 .9-2 2v14c0 1.1.9 2 2 2h14c1.1 0 2-.9 2-2V5c0-1.1-.9-2-2-2zM9 17H7v-7h2v7zm4 0h-2V7h2v10zm4 0h-2v-4h2v4z\"/>\n",
              "    </g>\n",
              "</svg>\n",
              "  </button>\n",
              "\n",
              "<style>\n",
              "  .colab-df-quickchart {\n",
              "      --bg-color: #E8F0FE;\n",
              "      --fill-color: #1967D2;\n",
              "      --hover-bg-color: #E2EBFA;\n",
              "      --hover-fill-color: #174EA6;\n",
              "      --disabled-fill-color: #AAA;\n",
              "      --disabled-bg-color: #DDD;\n",
              "  }\n",
              "\n",
              "  [theme=dark] .colab-df-quickchart {\n",
              "      --bg-color: #3B4455;\n",
              "      --fill-color: #D2E3FC;\n",
              "      --hover-bg-color: #434B5C;\n",
              "      --hover-fill-color: #FFFFFF;\n",
              "      --disabled-bg-color: #3B4455;\n",
              "      --disabled-fill-color: #666;\n",
              "  }\n",
              "\n",
              "  .colab-df-quickchart {\n",
              "    background-color: var(--bg-color);\n",
              "    border: none;\n",
              "    border-radius: 50%;\n",
              "    cursor: pointer;\n",
              "    display: none;\n",
              "    fill: var(--fill-color);\n",
              "    height: 32px;\n",
              "    padding: 0;\n",
              "    width: 32px;\n",
              "  }\n",
              "\n",
              "  .colab-df-quickchart:hover {\n",
              "    background-color: var(--hover-bg-color);\n",
              "    box-shadow: 0 1px 2px rgba(60, 64, 67, 0.3), 0 1px 3px 1px rgba(60, 64, 67, 0.15);\n",
              "    fill: var(--button-hover-fill-color);\n",
              "  }\n",
              "\n",
              "  .colab-df-quickchart-complete:disabled,\n",
              "  .colab-df-quickchart-complete:disabled:hover {\n",
              "    background-color: var(--disabled-bg-color);\n",
              "    fill: var(--disabled-fill-color);\n",
              "    box-shadow: none;\n",
              "  }\n",
              "\n",
              "  .colab-df-spinner {\n",
              "    border: 2px solid var(--fill-color);\n",
              "    border-color: transparent;\n",
              "    border-bottom-color: var(--fill-color);\n",
              "    animation:\n",
              "      spin 1s steps(1) infinite;\n",
              "  }\n",
              "\n",
              "  @keyframes spin {\n",
              "    0% {\n",
              "      border-color: transparent;\n",
              "      border-bottom-color: var(--fill-color);\n",
              "      border-left-color: var(--fill-color);\n",
              "    }\n",
              "    20% {\n",
              "      border-color: transparent;\n",
              "      border-left-color: var(--fill-color);\n",
              "      border-top-color: var(--fill-color);\n",
              "    }\n",
              "    30% {\n",
              "      border-color: transparent;\n",
              "      border-left-color: var(--fill-color);\n",
              "      border-top-color: var(--fill-color);\n",
              "      border-right-color: var(--fill-color);\n",
              "    }\n",
              "    40% {\n",
              "      border-color: transparent;\n",
              "      border-right-color: var(--fill-color);\n",
              "      border-top-color: var(--fill-color);\n",
              "    }\n",
              "    60% {\n",
              "      border-color: transparent;\n",
              "      border-right-color: var(--fill-color);\n",
              "    }\n",
              "    80% {\n",
              "      border-color: transparent;\n",
              "      border-right-color: var(--fill-color);\n",
              "      border-bottom-color: var(--fill-color);\n",
              "    }\n",
              "    90% {\n",
              "      border-color: transparent;\n",
              "      border-bottom-color: var(--fill-color);\n",
              "    }\n",
              "  }\n",
              "</style>\n",
              "\n",
              "  <script>\n",
              "    async function quickchart(key) {\n",
              "      const quickchartButtonEl =\n",
              "        document.querySelector('#' + key + ' button');\n",
              "      quickchartButtonEl.disabled = true;  // To prevent multiple clicks.\n",
              "      quickchartButtonEl.classList.add('colab-df-spinner');\n",
              "      try {\n",
              "        const charts = await google.colab.kernel.invokeFunction(\n",
              "            'suggestCharts', [key], {});\n",
              "      } catch (error) {\n",
              "        console.error('Error during call to suggestCharts:', error);\n",
              "      }\n",
              "      quickchartButtonEl.classList.remove('colab-df-spinner');\n",
              "      quickchartButtonEl.classList.add('colab-df-quickchart-complete');\n",
              "    }\n",
              "    (() => {\n",
              "      let quickchartButtonEl =\n",
              "        document.querySelector('#df-11c69edd-aae6-46bd-ba96-a5772cdbd0e0 button');\n",
              "      quickchartButtonEl.style.display =\n",
              "        google.colab.kernel.accessAllowed ? 'block' : 'none';\n",
              "    })();\n",
              "  </script>\n",
              "</div>\n",
              "\n",
              "    </div>\n",
              "  </div>\n"
            ],
            "application/vnd.google.colaboratory.intrinsic+json": {
              "type": "dataframe",
              "variable_name": "df",
              "summary": "{\n  \"name\": \"df\",\n  \"rows\": 768,\n  \"fields\": [\n    {\n      \"column\": \"Pregnancies\",\n      \"properties\": {\n        \"dtype\": \"number\",\n        \"std\": 3,\n        \"min\": 0,\n        \"max\": 17,\n        \"num_unique_values\": 17,\n        \"samples\": [\n          6,\n          1,\n          3\n        ],\n        \"semantic_type\": \"\",\n        \"description\": \"\"\n      }\n    },\n    {\n      \"column\": \"Glucose\",\n      \"properties\": {\n        \"dtype\": \"number\",\n        \"std\": 31,\n        \"min\": 0,\n        \"max\": 199,\n        \"num_unique_values\": 136,\n        \"samples\": [\n          151,\n          101,\n          112\n        ],\n        \"semantic_type\": \"\",\n        \"description\": \"\"\n      }\n    },\n    {\n      \"column\": \"BloodPressure\",\n      \"properties\": {\n        \"dtype\": \"number\",\n        \"std\": 19,\n        \"min\": 0,\n        \"max\": 122,\n        \"num_unique_values\": 47,\n        \"samples\": [\n          86,\n          46,\n          85\n        ],\n        \"semantic_type\": \"\",\n        \"description\": \"\"\n      }\n    },\n    {\n      \"column\": \"SkinThickness\",\n      \"properties\": {\n        \"dtype\": \"number\",\n        \"std\": 15,\n        \"min\": 0,\n        \"max\": 99,\n        \"num_unique_values\": 51,\n        \"samples\": [\n          7,\n          12,\n          48\n        ],\n        \"semantic_type\": \"\",\n        \"description\": \"\"\n      }\n    },\n    {\n      \"column\": \"Insulin\",\n      \"properties\": {\n        \"dtype\": \"number\",\n        \"std\": 115,\n        \"min\": 0,\n        \"max\": 846,\n        \"num_unique_values\": 186,\n        \"samples\": [\n          52,\n          41,\n          183\n        ],\n        \"semantic_type\": \"\",\n        \"description\": \"\"\n      }\n    },\n    {\n      \"column\": \"BMI\",\n      \"properties\": {\n        \"dtype\": \"number\",\n        \"std\": 7.8841603203754405,\n        \"min\": 0.0,\n        \"max\": 67.1,\n        \"num_unique_values\": 248,\n        \"samples\": [\n          19.9,\n          31.0,\n          38.1\n        ],\n        \"semantic_type\": \"\",\n        \"description\": \"\"\n      }\n    },\n    {\n      \"column\": \"DiabetesPedigreeFunction\",\n      \"properties\": {\n        \"dtype\": \"number\",\n        \"std\": 0.33132859501277484,\n        \"min\": 0.078,\n        \"max\": 2.42,\n        \"num_unique_values\": 517,\n        \"samples\": [\n          1.731,\n          0.426,\n          0.138\n        ],\n        \"semantic_type\": \"\",\n        \"description\": \"\"\n      }\n    },\n    {\n      \"column\": \"Age\",\n      \"properties\": {\n        \"dtype\": \"number\",\n        \"std\": 11,\n        \"min\": 21,\n        \"max\": 81,\n        \"num_unique_values\": 52,\n        \"samples\": [\n          60,\n          47,\n          72\n        ],\n        \"semantic_type\": \"\",\n        \"description\": \"\"\n      }\n    },\n    {\n      \"column\": \"Outcome\",\n      \"properties\": {\n        \"dtype\": \"number\",\n        \"std\": 0,\n        \"min\": 0,\n        \"max\": 1,\n        \"num_unique_values\": 2,\n        \"samples\": [\n          0,\n          1\n        ],\n        \"semantic_type\": \"\",\n        \"description\": \"\"\n      }\n    }\n  ]\n}"
            }
          },
          "metadata": {},
          "execution_count": 2
        }
      ]
    },
    {
      "cell_type": "code",
      "source": [
        "import numpy as np\n",
        "\n",
        "# Replace zero values with NaN in columns where zero is not a valid value\n",
        "cols_with_missing_vals = ['Glucose', 'BloodPressure', 'SkinThickness', 'Insulin', 'BMI']\n",
        "df[cols_with_missing_vals] = df[cols_with_missing_vals].replace(0, np.nan)\n",
        "\n",
        "# Impute the missing values with the mean of the respective column\n",
        "df.fillna(df.mean(), inplace=True)\n",
        "\n",
        "# Check if there are any remaining missing values\n",
        "print(df.isnull().sum())"
      ],
      "metadata": {
        "id": "uvZLPMoILYZi",
        "outputId": "191371bd-8683-444f-c77a-f879e56274b7",
        "colab": {
          "base_uri": "https://localhost:8080/"
        }
      },
      "execution_count": 3,
      "outputs": [
        {
          "output_type": "stream",
          "name": "stdout",
          "text": [
            "Pregnancies                 0\n",
            "Glucose                     0\n",
            "BloodPressure               0\n",
            "SkinThickness               0\n",
            "Insulin                     0\n",
            "BMI                         0\n",
            "DiabetesPedigreeFunction    0\n",
            "Age                         0\n",
            "Outcome                     0\n",
            "dtype: int64\n"
          ]
        }
      ]
    },
    {
      "cell_type": "code",
      "source": [
        "# Split into features (X) and target (y)\n",
        "X = df.drop('Outcome', axis=1)\n",
        "y = df['Outcome']\n",
        "\n",
        "# Split data into training and test sets (70% train, 30% test)\n",
        "X_train, X_test, y_train, y_test = train_test_split(X, y, test_size=0.3, random_state=42)\n",
        "\n",
        "# Optional: Scale the data for better model performance\n",
        "scaler = StandardScaler()\n",
        "X_train = scaler.fit_transform(X_train)\n",
        "X_test = scaler.transform(X_test)\n",
        "\n",
        "# Check the shape of the data\n",
        "print(f'Training set shape: {X_train.shape}')\n",
        "print(f'Test set shape: {X_test.shape}')\n"
      ],
      "metadata": {
        "id": "j1Tggl8PLbY0",
        "outputId": "c7dd31f6-ab14-4414-868e-fc48dc67822c",
        "colab": {
          "base_uri": "https://localhost:8080/"
        }
      },
      "execution_count": 4,
      "outputs": [
        {
          "output_type": "stream",
          "name": "stdout",
          "text": [
            "Training set shape: (537, 8)\n",
            "Test set shape: (231, 8)\n"
          ]
        }
      ]
    },
    {
      "cell_type": "code",
      "source": [
        "from sklearn.ensemble import RandomForestClassifier\n",
        "from sklearn.model_selection import cross_val_score\n",
        "\n",
        "# Define the objective function\n",
        "def objective(trial):\n",
        "    # Suggest values for the hyperparameters\n",
        "    n_estimators = trial.suggest_int('n_estimators', 50, 200)\n",
        "    max_depth = trial.suggest_int('max_depth', 3, 20)\n",
        "\n",
        "    # Create the RandomForestClassifier with suggested hyperparameters\n",
        "    model = RandomForestClassifier(\n",
        "        n_estimators=n_estimators,\n",
        "        max_depth=max_depth,\n",
        "        random_state=42\n",
        "    )\n",
        "\n",
        "    # Perform 3-fold cross-validation and calculate accuracy\n",
        "    score = cross_val_score(model, X_train, y_train, cv=3, scoring='accuracy').mean()\n",
        "\n",
        "    return score  # Return the accuracy score for Optuna to maximize"
      ],
      "metadata": {
        "id": "4eXfBR9oLgLh"
      },
      "execution_count": 7,
      "outputs": []
    },
    {
      "cell_type": "code",
      "source": [
        "# Create a study object and optimize the objective function\n",
        "study = optuna.create_study(direction='maximize', sampler=optuna.samplers.TPESampler())  # We aim to maximize accuracy\n",
        "study.optimize(objective, n_trials=50)  # Run 50 trials to find the best hyperparameters\n"
      ],
      "metadata": {
        "id": "aaouIKHVM1IR",
        "outputId": "a8f801c9-dc37-4909-c3b0-2155fa38a299",
        "colab": {
          "base_uri": "https://localhost:8080/"
        }
      },
      "execution_count": 8,
      "outputs": [
        {
          "output_type": "stream",
          "name": "stderr",
          "text": [
            "[I 2025-01-16 17:53:57,379] A new study created in memory with name: no-name-ff283011-b2a2-4ad4-944e-e81bba4f5561\n",
            "[I 2025-01-16 17:53:59,482] Trial 0 finished with value: 0.7672253258845437 and parameters: {'n_estimators': 99, 'max_depth': 14}. Best is trial 0 with value: 0.7672253258845437.\n",
            "[I 2025-01-16 17:54:00,785] Trial 1 finished with value: 0.7653631284916201 and parameters: {'n_estimators': 111, 'max_depth': 11}. Best is trial 0 with value: 0.7672253258845437.\n",
            "[I 2025-01-16 17:54:01,186] Trial 2 finished with value: 0.7672253258845437 and parameters: {'n_estimators': 65, 'max_depth': 13}. Best is trial 0 with value: 0.7672253258845437.\n",
            "[I 2025-01-16 17:54:02,014] Trial 3 finished with value: 0.7672253258845437 and parameters: {'n_estimators': 144, 'max_depth': 16}. Best is trial 0 with value: 0.7672253258845437.\n",
            "[I 2025-01-16 17:54:02,726] Trial 4 finished with value: 0.7709497206703911 and parameters: {'n_estimators': 110, 'max_depth': 8}. Best is trial 4 with value: 0.7709497206703911.\n",
            "[I 2025-01-16 17:54:03,294] Trial 5 finished with value: 0.7653631284916201 and parameters: {'n_estimators': 86, 'max_depth': 15}. Best is trial 4 with value: 0.7709497206703911.\n",
            "[I 2025-01-16 17:54:04,302] Trial 6 finished with value: 0.7783985102420857 and parameters: {'n_estimators': 165, 'max_depth': 16}. Best is trial 6 with value: 0.7783985102420857.\n",
            "[I 2025-01-16 17:54:04,712] Trial 7 finished with value: 0.7709497206703911 and parameters: {'n_estimators': 66, 'max_depth': 16}. Best is trial 6 with value: 0.7783985102420857.\n",
            "[I 2025-01-16 17:54:05,480] Trial 8 finished with value: 0.7728119180633147 and parameters: {'n_estimators': 137, 'max_depth': 8}. Best is trial 6 with value: 0.7783985102420857.\n",
            "[I 2025-01-16 17:54:05,838] Trial 9 finished with value: 0.7616387337057727 and parameters: {'n_estimators': 65, 'max_depth': 6}. Best is trial 6 with value: 0.7783985102420857.\n",
            "[I 2025-01-16 17:54:06,938] Trial 10 finished with value: 0.7728119180633147 and parameters: {'n_estimators': 189, 'max_depth': 20}. Best is trial 6 with value: 0.7783985102420857.\n",
            "[I 2025-01-16 17:54:07,771] Trial 11 finished with value: 0.7597765363128491 and parameters: {'n_estimators': 153, 'max_depth': 4}. Best is trial 6 with value: 0.7783985102420857.\n",
            "[I 2025-01-16 17:54:08,815] Trial 12 finished with value: 0.7690875232774674 and parameters: {'n_estimators': 181, 'max_depth': 10}. Best is trial 6 with value: 0.7783985102420857.\n",
            "[I 2025-01-16 17:54:09,731] Trial 13 finished with value: 0.7765363128491621 and parameters: {'n_estimators': 152, 'max_depth': 18}. Best is trial 6 with value: 0.7783985102420857.\n",
            "[I 2025-01-16 17:54:11,197] Trial 14 finished with value: 0.7709497206703911 and parameters: {'n_estimators': 165, 'max_depth': 20}. Best is trial 6 with value: 0.7783985102420857.\n",
            "[I 2025-01-16 17:54:13,071] Trial 15 finished with value: 0.7728119180633147 and parameters: {'n_estimators': 200, 'max_depth': 18}. Best is trial 6 with value: 0.7783985102420857.\n",
            "[I 2025-01-16 17:54:14,258] Trial 16 finished with value: 0.7709497206703911 and parameters: {'n_estimators': 168, 'max_depth': 18}. Best is trial 6 with value: 0.7783985102420857.\n",
            "[I 2025-01-16 17:54:15,021] Trial 17 finished with value: 0.7765363128491621 and parameters: {'n_estimators': 128, 'max_depth': 18}. Best is trial 6 with value: 0.7783985102420857.\n",
            "[I 2025-01-16 17:54:15,919] Trial 18 finished with value: 0.7709497206703911 and parameters: {'n_estimators': 158, 'max_depth': 13}. Best is trial 6 with value: 0.7783985102420857.\n",
            "[I 2025-01-16 17:54:16,911] Trial 19 finished with value: 0.7746741154562384 and parameters: {'n_estimators': 175, 'max_depth': 17}. Best is trial 6 with value: 0.7783985102420857.\n",
            "[I 2025-01-16 17:54:17,760] Trial 20 finished with value: 0.7709497206703911 and parameters: {'n_estimators': 145, 'max_depth': 20}. Best is trial 6 with value: 0.7783985102420857.\n",
            "[I 2025-01-16 17:54:18,488] Trial 21 finished with value: 0.7783985102420856 and parameters: {'n_estimators': 126, 'max_depth': 18}. Best is trial 6 with value: 0.7783985102420857.\n",
            "[I 2025-01-16 17:54:19,256] Trial 22 finished with value: 0.7783985102420856 and parameters: {'n_estimators': 127, 'max_depth': 18}. Best is trial 6 with value: 0.7783985102420857.\n",
            "[I 2025-01-16 17:54:19,984] Trial 23 finished with value: 0.7783985102420856 and parameters: {'n_estimators': 123, 'max_depth': 15}. Best is trial 6 with value: 0.7783985102420857.\n",
            "[I 2025-01-16 17:54:20,709] Trial 24 finished with value: 0.7783985102420856 and parameters: {'n_estimators': 127, 'max_depth': 19}. Best is trial 6 with value: 0.7783985102420857.\n",
            "[I 2025-01-16 17:54:21,204] Trial 25 finished with value: 0.7746741154562384 and parameters: {'n_estimators': 81, 'max_depth': 16}. Best is trial 6 with value: 0.7783985102420857.\n",
            "[I 2025-01-16 17:54:21,891] Trial 26 finished with value: 0.7709497206703911 and parameters: {'n_estimators': 116, 'max_depth': 13}. Best is trial 6 with value: 0.7783985102420857.\n",
            "[I 2025-01-16 17:54:22,509] Trial 27 finished with value: 0.7728119180633147 and parameters: {'n_estimators': 102, 'max_depth': 17}. Best is trial 6 with value: 0.7783985102420857.\n",
            "[I 2025-01-16 17:54:23,388] Trial 28 finished with value: 0.7728119180633147 and parameters: {'n_estimators': 140, 'max_depth': 15}. Best is trial 6 with value: 0.7783985102420857.\n",
            "[I 2025-01-16 17:54:24,132] Trial 29 finished with value: 0.7709497206703911 and parameters: {'n_estimators': 90, 'max_depth': 14}. Best is trial 6 with value: 0.7783985102420857.\n",
            "[I 2025-01-16 17:54:25,031] Trial 30 finished with value: 0.7635009310986964 and parameters: {'n_estimators': 99, 'max_depth': 11}. Best is trial 6 with value: 0.7783985102420857.\n",
            "[I 2025-01-16 17:54:26,180] Trial 31 finished with value: 0.7783985102420856 and parameters: {'n_estimators': 123, 'max_depth': 15}. Best is trial 6 with value: 0.7783985102420857.\n",
            "[I 2025-01-16 17:54:27,280] Trial 32 finished with value: 0.7783985102420856 and parameters: {'n_estimators': 117, 'max_depth': 17}. Best is trial 6 with value: 0.7783985102420857.\n",
            "[I 2025-01-16 17:54:28,109] Trial 33 finished with value: 0.7672253258845437 and parameters: {'n_estimators': 136, 'max_depth': 14}. Best is trial 6 with value: 0.7783985102420857.\n",
            "[I 2025-01-16 17:54:28,898] Trial 34 finished with value: 0.7783985102420856 and parameters: {'n_estimators': 131, 'max_depth': 19}. Best is trial 6 with value: 0.7783985102420857.\n",
            "[I 2025-01-16 17:54:29,555] Trial 35 finished with value: 0.7783985102420856 and parameters: {'n_estimators': 111, 'max_depth': 16}. Best is trial 6 with value: 0.7783985102420857.\n",
            "[I 2025-01-16 17:54:30,042] Trial 36 finished with value: 0.7690875232774674 and parameters: {'n_estimators': 77, 'max_depth': 12}. Best is trial 6 with value: 0.7783985102420857.\n",
            "[I 2025-01-16 17:54:30,701] Trial 37 finished with value: 0.7728119180633147 and parameters: {'n_estimators': 103, 'max_depth': 19}. Best is trial 6 with value: 0.7783985102420857.\n",
            "[I 2025-01-16 17:54:31,441] Trial 38 finished with value: 0.7783985102420856 and parameters: {'n_estimators': 123, 'max_depth': 15}. Best is trial 6 with value: 0.7783985102420857.\n",
            "[I 2025-01-16 17:54:31,999] Trial 39 finished with value: 0.7690875232774674 and parameters: {'n_estimators': 92, 'max_depth': 17}. Best is trial 6 with value: 0.7783985102420857.\n",
            "[I 2025-01-16 17:54:32,864] Trial 40 finished with value: 0.7653631284916201 and parameters: {'n_estimators': 144, 'max_depth': 12}. Best is trial 6 with value: 0.7783985102420857.\n",
            "[I 2025-01-16 17:54:33,224] Trial 41 finished with value: 0.7746741154562384 and parameters: {'n_estimators': 53, 'max_depth': 19}. Best is trial 6 with value: 0.7783985102420857.\n",
            "[I 2025-01-16 17:54:34,006] Trial 42 finished with value: 0.7746741154562383 and parameters: {'n_estimators': 132, 'max_depth': 19}. Best is trial 6 with value: 0.7783985102420857.\n",
            "[I 2025-01-16 17:54:34,729] Trial 43 finished with value: 0.7783985102420856 and parameters: {'n_estimators': 121, 'max_depth': 17}. Best is trial 6 with value: 0.7783985102420857.\n",
            "[I 2025-01-16 17:54:35,365] Trial 44 finished with value: 0.7635009310986964 and parameters: {'n_estimators': 108, 'max_depth': 9}. Best is trial 6 with value: 0.7783985102420857.\n",
            "[I 2025-01-16 17:54:36,217] Trial 45 finished with value: 0.7746741154562384 and parameters: {'n_estimators': 150, 'max_depth': 16}. Best is trial 6 with value: 0.7783985102420857.\n",
            "[I 2025-01-16 17:54:37,147] Trial 46 finished with value: 0.7728119180633147 and parameters: {'n_estimators': 160, 'max_depth': 20}. Best is trial 6 with value: 0.7783985102420857.\n",
            "[I 2025-01-16 17:54:38,154] Trial 47 finished with value: 0.7802607076350093 and parameters: {'n_estimators': 113, 'max_depth': 18}. Best is trial 47 with value: 0.7802607076350093.\n",
            "[I 2025-01-16 17:54:39,869] Trial 48 finished with value: 0.7728119180633147 and parameters: {'n_estimators': 189, 'max_depth': 18}. Best is trial 47 with value: 0.7802607076350093.\n",
            "[I 2025-01-16 17:54:40,908] Trial 49 finished with value: 0.7821229050279329 and parameters: {'n_estimators': 117, 'max_depth': 15}. Best is trial 49 with value: 0.7821229050279329.\n"
          ]
        }
      ]
    },
    {
      "cell_type": "code",
      "source": [
        "# Print the best result\n",
        "print(f'Best trial accuracy: {study.best_trial.value}')\n",
        "print(f'Best hyperparameters: {study.best_trial.params}')"
      ],
      "metadata": {
        "id": "mZVz-6jGPode",
        "outputId": "0005ec16-b795-427c-f3e2-adf43dfe2216",
        "colab": {
          "base_uri": "https://localhost:8080/"
        }
      },
      "execution_count": 9,
      "outputs": [
        {
          "output_type": "stream",
          "name": "stdout",
          "text": [
            "Best trial accuracy: 0.7821229050279329\n",
            "Best hyperparameters: {'n_estimators': 117, 'max_depth': 15}\n"
          ]
        }
      ]
    },
    {
      "cell_type": "code",
      "source": [
        "https://www.tldraw.com/r/I63sbz3XTDDvRyiw0T3Bh?d=v-2346.325.3750.1912.page"
      ],
      "metadata": {
        "id": "qhi5l93cQUOU",
        "outputId": "2b59d480-77ba-4ca5-904d-e4539419cb3c",
        "colab": {
          "base_uri": "https://localhost:8080/",
          "height": 108
        }
      },
      "execution_count": 10,
      "outputs": [
        {
          "output_type": "error",
          "ename": "SyntaxError",
          "evalue": "invalid syntax (<ipython-input-10-545964909ef0>, line 1)",
          "traceback": [
            "\u001b[0;36m  File \u001b[0;32m\"<ipython-input-10-545964909ef0>\"\u001b[0;36m, line \u001b[0;32m1\u001b[0m\n\u001b[0;31m    https://www.tldraw.com/r/I63sbz3XTDDvRyiw0T3Bh?d=v-2346.325.3750.1912.page\u001b[0m\n\u001b[0m          ^\u001b[0m\n\u001b[0;31mSyntaxError\u001b[0m\u001b[0;31m:\u001b[0m invalid syntax\n"
          ]
        }
      ]
    },
    {
      "cell_type": "markdown",
      "source": [],
      "metadata": {
        "id": "dMnKN1IjSJK-"
      }
    },
    {
      "cell_type": "code",
      "source": [],
      "metadata": {
        "id": "Upxs4WE5SFKe"
      },
      "execution_count": null,
      "outputs": []
    }
  ]
}